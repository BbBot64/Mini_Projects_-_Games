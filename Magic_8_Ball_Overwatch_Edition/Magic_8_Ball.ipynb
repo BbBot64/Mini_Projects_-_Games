{
 "cells": [
  {
   "cell_type": "markdown",
   "metadata": {},
   "source": [
    "# Magic-8 Ball Overwatch Edition\n",
    "\n",
    "A simple Magic-8 Ball like app with a slight twist, the classic quotes have been replaced with Overwatch character voicelines. Please try it out! Any suggestions and/or criticism are welcome and encouraged! \n",
    "\n",
    "* Many Thanks\n",
    "    * Jason J Ortiz\n",
    "    * https://www.linkedin.com/in/jason-j-ortiz-computer-enthusiast/"
   ]
  },
  {
   "cell_type": "code",
   "execution_count": 11,
   "metadata": {},
   "outputs": [],
   "source": [
    "import random"
   ]
  },
  {
   "cell_type": "code",
   "execution_count": 13,
   "metadata": {},
   "outputs": [],
   "source": [
    "voicelines_dict = {1: \"I will not juggle.\",\n",
    "              2: \"The results are inconclusive.\",\n",
    "              3: \"Boop\",\n",
    "              4: \"Stupidity is not a right.\",\n",
    "              5: \"What are you looking at?\",\n",
    "              6: f\"I give it a {random.randint(1, 10)}\",\n",
    "              7: \"No shortcuts, just hard work.\",\n",
    "              8: \"Let's not do that again.\",\n",
    "              9: \"You're the boss.\",\n",
    "              10: \"I'd love to stay and chat, but... I'm not going to.\"}"
   ]
  },
  {
   "cell_type": "code",
   "execution_count": 20,
   "metadata": {},
   "outputs": [],
   "source": [
    "class Eight_Ball:\n",
    "    \n",
    "    def __init__(self, voicelines_dict):\n",
    "        self.voicelines = voicelines_dict\n",
    "\n",
    "    def print_all(self):\n",
    "        for i in range(1, 11):\n",
    "            print(f\"Voiceline {i}: {voicelines_dict[i]}\")\n",
    "        \n",
    "    def random_voiceline(self):\n",
    "        print(voicelines_dict[random.randint(1,10)])"
   ]
  },
  {
   "cell_type": "markdown",
   "metadata": {},
   "source": []
  },
  {
   "cell_type": "code",
   "execution_count": 21,
   "metadata": {},
   "outputs": [],
   "source": [
    "eight_ball = Eight_Ball(voicelines_dict)"
   ]
  },
  {
   "cell_type": "code",
   "execution_count": 22,
   "metadata": {},
   "outputs": [
    {
     "name": "stdout",
     "output_type": "stream",
     "text": [
      "Voiceline 1: I will not juggle.\n",
      "Voiceline 2: The results are inconclusive.\n",
      "Voiceline 3: Boop\n",
      "Voiceline 4: Stupidity is not a right.\n",
      "Voiceline 5: What are you looking at?\n",
      "Voiceline 6: I give it a 9\n",
      "Voiceline 7: No shortcuts, just hard work.\n",
      "Voiceline 8: Let's not do that again.\n",
      "Voiceline 9: You're the boss.\n",
      "Voiceline 10: I'd love to stay and chat, but... I'm not going to.\n"
     ]
    }
   ],
   "source": [
    "eight_ball.print_all()"
   ]
  },
  {
   "cell_type": "code",
   "execution_count": null,
   "metadata": {},
   "outputs": [],
   "source": []
  },
  {
   "cell_type": "code",
   "execution_count": null,
   "metadata": {},
   "outputs": [],
   "source": []
  }
 ],
 "metadata": {
  "kernelspec": {
   "display_name": "Python 3.10.4 64-bit",
   "language": "python",
   "name": "python3"
  },
  "language_info": {
   "codemirror_mode": {
    "name": "ipython",
    "version": 3
   },
   "file_extension": ".py",
   "mimetype": "text/x-python",
   "name": "python",
   "nbconvert_exporter": "python",
   "pygments_lexer": "ipython3",
   "version": "3.10.4"
  },
  "orig_nbformat": 4,
  "vscode": {
   "interpreter": {
    "hash": "369f2c481f4da34e4445cda3fffd2e751bd1c4d706f27375911949ba6bb62e1c"
   }
  }
 },
 "nbformat": 4,
 "nbformat_minor": 2
}
