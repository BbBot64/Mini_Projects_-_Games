{
 "cells": [
  {
   "cell_type": "markdown",
   "metadata": {},
   "source": [
    "# Magic-8 Ball Video-Game Edition\n",
    "\n",
    "A simple Magic-8 Ball like app with a slight twist, the classic quotes have been replaced with video-game character voicelines. Please try it out! Any suggestions and/or criticism are welcome and encouraged! \n",
    "\n",
    "* Many Thanks\n",
    "    * Jason J Ortiz\n",
    "    * https://www.linkedin.com/in/jason-j-ortiz-computer-enthusiast/"
   ]
  },
  {
   "cell_type": "code",
   "execution_count": 1,
   "metadata": {},
   "outputs": [],
   "source": [
    "import random"
   ]
  },
  {
   "cell_type": "markdown",
   "metadata": {},
   "source": [
    "## Eight Ball class:\n",
    "* Requirements:\n",
    "    * Shake to print a random Overwatch voiceline\n",
    "    * Ask if the user wants to play again:\n",
    "        * \"y\" to shake again\n",
    "        * \"n\" to quit the app\n",
    "    * Potential to add/delete voicelines for future fun"
   ]
  },
  {
   "cell_type": "code",
   "execution_count": 25,
   "metadata": {},
   "outputs": [],
   "source": [
    "class Eight_Ball:\n",
    "    \n",
    "    def __init__(self, voiceline=None):\n",
    "        if voiceline is None:\n",
    "            self.voicelines = []\n",
    "        else:\n",
    "            self.voicelines = []\n",
    "            self.add_voiceline(voiceline)\n",
    "\n",
    "    def add_voiceline(self, voiceline):\n",
    "        if type(voiceline) is str:\n",
    "            self.voicelines.append(voiceline)\n",
    "        else:\n",
    "            print(\"Input needs to be a string. Please try again.\")\n",
    "\n",
    "    def print_all(self):\n",
    "        if self.voicelines != []:\n",
    "            for i in range(1, len(self.voicelines)):\n",
    "                print(f\"Voiceline {i}: {self.voicelines[i]}\")\n",
    "        else:\n",
    "            print(\"The Magic Eight Ball has no wisdom for you at this moment. Please share any wisdom you may have!\")\n",
    "            user_input = input(\"Would you like to add a voiceline? Enter y/n\")\n",
    "            if user_input == \"y\":\n",
    "                self.add_voiceline(input(\"Please enter the voiceline you would like to insert:\"))\n",
    "            elif user_input == \"n\":\n",
    "                print(\"Understood. Thank you very much for playing. I hope to see you soon.\")\n",
    "        \n",
    "    def print_random(self):\n",
    "        if self.voicelines != []:\n",
    "            print(self.voicelines[random.randint(0, len(self.voicelines))], \"\\n\")\n",
    "        else:\n",
    "            print(\"The Magic Eight Ball has no wisdom for you at this moment. Please share any wisdom you may have!\")\n",
    "\n",
    "    def shake(self):\n",
    "        keep_playing = True\n",
    "        while keep_playing:\n",
    "            self.print_random()\n",
    "            user_input = input(\"Would you like to play again? Enter: y/n\")\n",
    "            while (user_input != \"y\") and (user_input != \"n\"):\n",
    "                user_input = input(\"Incorrect Input: Please try again.\\nWould you like to play again? Enter: y/n\")\n",
    "            if user_input == \"y\":\n",
    "                self.print_random()\n",
    "            elif user_input == \"n\":\n",
    "                keep_playing = False\n",
    "    "
   ]
  },
  {
   "cell_type": "markdown",
   "metadata": {},
   "source": [
    "### Testing Eight Ball class implementation"
   ]
  },
  {
   "cell_type": "markdown",
   "metadata": {},
   "source": [
    "#### Simple test list of ten Overwatch voicelines chosen at random"
   ]
  },
  {
   "cell_type": "code",
   "execution_count": 26,
   "metadata": {},
   "outputs": [],
   "source": [
    "voicelines_list = [\"I will not juggle.\",\n",
    "                   \"The results are inconclusive.\",\n",
    "                   \"Boop\",\n",
    "                   \"Stupidity is not a right.\",\n",
    "                   \"What are you looking at?\",\n",
    "                   f\"I give it a {random.randint(1, 10)}\",\n",
    "                   \"No shortcuts, just hard work.\",\n",
    "                   \"Let's not do that again.\",\n",
    "                   \"You're the boss.\",\n",
    "                   \"I'd love to stay and chat, but... I'm not going to.\"]"
   ]
  },
  {
   "cell_type": "markdown",
   "metadata": {},
   "source": [
    "#### Eight_Ball Class and Methods Test Cases\n",
    "* Empty Eight Ball -> What interactions may occur, how can you steer them in the right direction?\n"
   ]
  },
  {
   "cell_type": "markdown",
   "metadata": {},
   "source": [
    "Empty Eight Ball Tests"
   ]
  },
  {
   "cell_type": "code",
   "execution_count": 27,
   "metadata": {},
   "outputs": [],
   "source": [
    "empty_eight_ball = Eight_Ball()"
   ]
  },
  {
   "cell_type": "code",
   "execution_count": 28,
   "metadata": {},
   "outputs": [
    {
     "name": "stdout",
     "output_type": "stream",
     "text": [
      "The Magic Eight Ball has no wisdom for you at this moment. Please share any wisdom you may have!\n"
     ]
    }
   ],
   "source": [
    "empty_eight_ball.print_all()"
   ]
  },
  {
   "cell_type": "code",
   "execution_count": 30,
   "metadata": {},
   "outputs": [
    {
     "name": "stdout",
     "output_type": "stream",
     "text": [
      "The Magic Eight Ball has no wisdom for you at this moment. Please share any wisdom you may have!\n"
     ]
    }
   ],
   "source": [
    "empty_eight_ball.print_random()"
   ]
  },
  {
   "cell_type": "code",
   "execution_count": 31,
   "metadata": {},
   "outputs": [
    {
     "name": "stdout",
     "output_type": "stream",
     "text": [
      "Input needs to be a string. Please try again.\n"
     ]
    }
   ],
   "source": [
    "empty_eight_ball.add_voiceline(9)"
   ]
  },
  {
   "cell_type": "code",
   "execution_count": 37,
   "metadata": {},
   "outputs": [
    {
     "name": "stdout",
     "output_type": "stream",
     "text": [
      "Input needs to be a string. Please try again.\n"
     ]
    }
   ],
   "source": [
    "empty_eight_ball.add_voiceline(voicelines_list)"
   ]
  },
  {
   "cell_type": "markdown",
   "metadata": {},
   "source": [
    "Non-Empty Eight Ball Tests"
   ]
  },
  {
   "cell_type": "code",
   "execution_count": 29,
   "metadata": {},
   "outputs": [
    {
     "name": "stdout",
     "output_type": "stream",
     "text": [
      "Input needs to be a string. Please try again.\n"
     ]
    }
   ],
   "source": [
    "eight_ball = Eight_Ball(voicelines_list)"
   ]
  },
  {
   "cell_type": "code",
   "execution_count": 35,
   "metadata": {},
   "outputs": [
    {
     "name": "stdout",
     "output_type": "stream",
     "text": [
      "The Magic Eight Ball has no wisdom for you at this moment. Please share any wisdom you may have!\n"
     ]
    }
   ],
   "source": [
    "eight_ball.print_all()"
   ]
  },
  {
   "cell_type": "code",
   "execution_count": 36,
   "metadata": {},
   "outputs": [
    {
     "name": "stdout",
     "output_type": "stream",
     "text": [
      "The Magic Eight Ball has no wisdom for you at this moment. Please share any wisdom you may have!\n"
     ]
    }
   ],
   "source": [
    "eight_ball.print_random()"
   ]
  },
  {
   "cell_type": "code",
   "execution_count": null,
   "metadata": {},
   "outputs": [],
   "source": []
  }
 ],
 "metadata": {
  "kernelspec": {
   "display_name": "Python 3.10.4 64-bit",
   "language": "python",
   "name": "python3"
  },
  "language_info": {
   "codemirror_mode": {
    "name": "ipython",
    "version": 3
   },
   "file_extension": ".py",
   "mimetype": "text/x-python",
   "name": "python",
   "nbconvert_exporter": "python",
   "pygments_lexer": "ipython3",
   "version": "3.10.4"
  },
  "orig_nbformat": 4,
  "vscode": {
   "interpreter": {
    "hash": "369f2c481f4da34e4445cda3fffd2e751bd1c4d706f27375911949ba6bb62e1c"
   }
  }
 },
 "nbformat": 4,
 "nbformat_minor": 2
}
